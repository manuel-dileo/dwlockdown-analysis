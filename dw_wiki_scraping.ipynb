{
 "cells": [
  {
   "cell_type": "markdown",
   "metadata": {},
   "source": [
    "Utility for tweet gathering. Thanks to <a href = 'https://tardis.fandom.com/wiki/Doctor_Who:_Lockdown'> the doctor who wiki </a>."
   ]
  },
  {
   "cell_type": "code",
   "execution_count": 1,
   "metadata": {},
   "outputs": [],
   "source": [
    "import requests\n",
    "from bs4 import BeautifulSoup\n",
    "import re\n",
    "import pandas as pd"
   ]
  },
  {
   "cell_type": "code",
   "execution_count": 2,
   "metadata": {},
   "outputs": [],
   "source": [
    "source = 'https://tardis.fandom.com/wiki/Doctor_Who:_Lockdown!'\n",
    "response = requests.get(source)\n",
    "soup = BeautifulSoup(response.text,'lxml')\n",
    "ep_table = soup.find('table')"
   ]
  },
  {
   "cell_type": "code",
   "execution_count": 3,
   "metadata": {},
   "outputs": [],
   "source": [
    "info = {}\n",
    "for row in ep_table.findAll('tr')[1:]:\n",
    "    episode_info = row.text.split('\\n')[2:-1]\n",
    "    ep_name = episode_info[0]\n",
    "    hashtag = episode_info[1]\n",
    "    commentators = re.sub('([a-z])([A-Z])', '\\\\1#\\\\2', episode_info[2]).split('#')\n",
    "    date = re.sub('([0-9]{4})([0-9]|[a-z]|[A-Z])', '\\\\1#\\\\2', episode_info[3]).split('#')[0]\n",
    "    info[ep_name] = {'hashtag': hashtag,\\\n",
    "                    'commentators': commentators,\\\n",
    "                    'date': date}"
   ]
  },
  {
   "cell_type": "code",
   "execution_count": 4,
   "metadata": {},
   "outputs": [
    {
     "data": {
      "text/html": [
       "<div>\n",
       "<style scoped>\n",
       "    .dataframe tbody tr th:only-of-type {\n",
       "        vertical-align: middle;\n",
       "    }\n",
       "\n",
       "    .dataframe tbody tr th {\n",
       "        vertical-align: top;\n",
       "    }\n",
       "\n",
       "    .dataframe thead th {\n",
       "        text-align: right;\n",
       "    }\n",
       "</style>\n",
       "<table border=\"1\" class=\"dataframe\">\n",
       "  <thead>\n",
       "    <tr style=\"text-align: right;\">\n",
       "      <th></th>\n",
       "      <th>hashtag</th>\n",
       "      <th>commentators</th>\n",
       "      <th>date</th>\n",
       "    </tr>\n",
       "  </thead>\n",
       "  <tbody>\n",
       "    <tr>\n",
       "      <th>The Day of the Doctor</th>\n",
       "      <td>#SaveTheDay</td>\n",
       "      <td>[Steven Moffat]</td>\n",
       "      <td>21 March 2020</td>\n",
       "    </tr>\n",
       "    <tr>\n",
       "      <th>Rose</th>\n",
       "      <td>#TripofaLifetime</td>\n",
       "      <td>[Russell T Davies, Mark Benton]</td>\n",
       "      <td>26 March 2020</td>\n",
       "    </tr>\n",
       "    <tr>\n",
       "      <th>Vincent and the Doctor</th>\n",
       "      <td>#TheUltimateGinger</td>\n",
       "      <td>[Richard Curtis, Matt Smith, Tony Curran, Kare...</td>\n",
       "      <td>30 March 2020</td>\n",
       "    </tr>\n",
       "    <tr>\n",
       "      <th>The Eleventh Hour</th>\n",
       "      <td>#FishCustard</td>\n",
       "      <td>[Steven Moffat, Matt Smith, Karen Gillan, Arth...</td>\n",
       "      <td>3 April 2020</td>\n",
       "    </tr>\n",
       "    <tr>\n",
       "      <th>The Doctor's Wife</th>\n",
       "      <td>#BiggerOnTheInside</td>\n",
       "      <td>[Neil Gaiman, Richard Clark, Michael Sheen]</td>\n",
       "      <td>11 April 2020</td>\n",
       "    </tr>\n",
       "  </tbody>\n",
       "</table>\n",
       "</div>"
      ],
      "text/plain": [
       "                                   hashtag  \\\n",
       "The Day of the Doctor          #SaveTheDay   \n",
       "Rose                      #TripofaLifetime   \n",
       "Vincent and the Doctor  #TheUltimateGinger   \n",
       "The Eleventh Hour             #FishCustard   \n",
       "The Doctor's Wife       #BiggerOnTheInside   \n",
       "\n",
       "                                                             commentators  \\\n",
       "The Day of the Doctor                                     [Steven Moffat]   \n",
       "Rose                                      [Russell T Davies, Mark Benton]   \n",
       "Vincent and the Doctor  [Richard Curtis, Matt Smith, Tony Curran, Kare...   \n",
       "The Eleventh Hour       [Steven Moffat, Matt Smith, Karen Gillan, Arth...   \n",
       "The Doctor's Wife             [Neil Gaiman, Richard Clark, Michael Sheen]   \n",
       "\n",
       "                                 date  \n",
       "The Day of the Doctor   21 March 2020  \n",
       "Rose                    26 March 2020  \n",
       "Vincent and the Doctor  30 March 2020  \n",
       "The Eleventh Hour        3 April 2020  \n",
       "The Doctor's Wife       11 April 2020  "
      ]
     },
     "execution_count": 4,
     "metadata": {},
     "output_type": "execute_result"
    }
   ],
   "source": [
    "scraping_df = pd.DataFrame.from_dict(info,orient='index')\n",
    "scraping_df.head()"
   ]
  },
  {
   "cell_type": "markdown",
   "metadata": {},
   "source": [
    "#### We distinguish crew and actors"
   ]
  },
  {
   "cell_type": "code",
   "execution_count": 5,
   "metadata": {},
   "outputs": [],
   "source": [
    "crew = set(['Russell T Davies','Steven Moffat'])\n",
    "base_url = 'https://tardis.fandom.com/wiki/'\n",
    "for episode in info.keys():\n",
    "    ep_name = re.split('[\\s]/[\\s]',episode)[0]\n",
    "    ep_url = base_url + (ep_name.replace(' ','_')) + '_(TV_story)'\n",
    "    response = requests.get(ep_url)\n",
    "    soup = BeautifulSoup(response.text,'lxml')\n",
    "    crew_table = soup.find('section',class_='pi-item pi-group pi-border-color')\n",
    "    crew_ep = set([crew_table.text.split('\\n')[4],crew_table.text.split('\\n')[8],crew_table.text.split('\\n')[12]])\n",
    "    crew |= crew_ep"
   ]
  },
  {
   "cell_type": "code",
   "execution_count": 6,
   "metadata": {},
   "outputs": [],
   "source": [
    "crew_list = list(map(lambda x: re.split(r',[\\s]',x)[1] if ',' in x else x,list(crew)))"
   ]
  },
  {
   "cell_type": "code",
   "execution_count": 7,
   "metadata": {},
   "outputs": [],
   "source": [
    "actors_col = []\n",
    "crew_col = []\n",
    "for _,y in scraping_df.iterrows():\n",
    "    commentators = y['commentators']\n",
    "    actors = [commentator for commentator in commentators if commentator not in crew_list]\n",
    "    crew = [commentator for commentator in commentators if commentator in crew_list]\n",
    "    actors_col.append(actors)\n",
    "    crew_col.append(crew)"
   ]
  },
  {
   "cell_type": "code",
   "execution_count": 8,
   "metadata": {},
   "outputs": [
    {
     "data": {
      "text/html": [
       "<div>\n",
       "<style scoped>\n",
       "    .dataframe tbody tr th:only-of-type {\n",
       "        vertical-align: middle;\n",
       "    }\n",
       "\n",
       "    .dataframe tbody tr th {\n",
       "        vertical-align: top;\n",
       "    }\n",
       "\n",
       "    .dataframe thead th {\n",
       "        text-align: right;\n",
       "    }\n",
       "</style>\n",
       "<table border=\"1\" class=\"dataframe\">\n",
       "  <thead>\n",
       "    <tr style=\"text-align: right;\">\n",
       "      <th></th>\n",
       "      <th>hashtag</th>\n",
       "      <th>date</th>\n",
       "      <th>actors</th>\n",
       "      <th>crew</th>\n",
       "    </tr>\n",
       "  </thead>\n",
       "  <tbody>\n",
       "    <tr>\n",
       "      <th>Dalek</th>\n",
       "      <td>#TheMetaltron</td>\n",
       "      <td>30 April 2020</td>\n",
       "      <td>[Nicholas Briggs, Barnaby Edwards]</td>\n",
       "      <td>[Robert Shearman]</td>\n",
       "    </tr>\n",
       "    <tr>\n",
       "      <th>The Girl in the Fireplace</th>\n",
       "      <td>#Clockdown</td>\n",
       "      <td>6 May 2020</td>\n",
       "      <td>[Sophia Myles]</td>\n",
       "      <td>[Steven Moffat, Russell T Davies]</td>\n",
       "    </tr>\n",
       "    <tr>\n",
       "      <th>The Zygon Invasion / The Zygon Inversion</th>\n",
       "      <td>#TruthOrConsequences</td>\n",
       "      <td>10 May 2020</td>\n",
       "      <td>[Ingrid Oliver]</td>\n",
       "      <td>[Peter Harness]</td>\n",
       "    </tr>\n",
       "    <tr>\n",
       "      <th>The Fires of Pompeii</th>\n",
       "      <td>#VolcanoDay</td>\n",
       "      <td>17 May 2020</td>\n",
       "      <td>[Tracey Childs, Francesca Fowler, Francois Pan...</td>\n",
       "      <td>[James Moran]</td>\n",
       "    </tr>\n",
       "    <tr>\n",
       "      <th>Listen</th>\n",
       "      <td>#FearIsASuperpower</td>\n",
       "      <td>20 May 2020</td>\n",
       "      <td>[]</td>\n",
       "      <td>[Steven Moffat, Douglas Mackinnon]</td>\n",
       "    </tr>\n",
       "  </tbody>\n",
       "</table>\n",
       "</div>"
      ],
      "text/plain": [
       "                                                       hashtag           date  \\\n",
       "Dalek                                            #TheMetaltron  30 April 2020   \n",
       "The Girl in the Fireplace                           #Clockdown     6 May 2020   \n",
       "The Zygon Invasion / The Zygon Inversion  #TruthOrConsequences    10 May 2020   \n",
       "The Fires of Pompeii                               #VolcanoDay    17 May 2020   \n",
       "Listen                                      #FearIsASuperpower    20 May 2020   \n",
       "\n",
       "                                                                                     actors  \\\n",
       "Dalek                                                    [Nicholas Briggs, Barnaby Edwards]   \n",
       "The Girl in the Fireplace                                                    [Sophia Myles]   \n",
       "The Zygon Invasion / The Zygon Inversion                                    [Ingrid Oliver]   \n",
       "The Fires of Pompeii                      [Tracey Childs, Francesca Fowler, Francois Pan...   \n",
       "Listen                                                                                   []   \n",
       "\n",
       "                                                                        crew  \n",
       "Dalek                                                      [Robert Shearman]  \n",
       "The Girl in the Fireplace                  [Steven Moffat, Russell T Davies]  \n",
       "The Zygon Invasion / The Zygon Inversion                     [Peter Harness]  \n",
       "The Fires of Pompeii                                           [James Moran]  \n",
       "Listen                                    [Steven Moffat, Douglas Mackinnon]  "
      ]
     },
     "execution_count": 8,
     "metadata": {},
     "output_type": "execute_result"
    }
   ],
   "source": [
    "df_info = scraping_df.drop(columns=['commentators'])\n",
    "df_info['actors'] = actors_col\n",
    "df_info['crew'] = crew_col\n",
    "df_info.tail()"
   ]
  },
  {
   "cell_type": "code",
   "execution_count": 9,
   "metadata": {},
   "outputs": [],
   "source": [
    "df_info.to_json('info/dw_lockdown_info.json')"
   ]
  }
 ],
 "metadata": {
  "kernelspec": {
   "display_name": "Python 3",
   "language": "python",
   "name": "python3"
  },
  "language_info": {
   "codemirror_mode": {
    "name": "ipython",
    "version": 3
   },
   "file_extension": ".py",
   "mimetype": "text/x-python",
   "name": "python",
   "nbconvert_exporter": "python",
   "pygments_lexer": "ipython3",
   "version": "3.7.3"
  }
 },
 "nbformat": 4,
 "nbformat_minor": 4
}
