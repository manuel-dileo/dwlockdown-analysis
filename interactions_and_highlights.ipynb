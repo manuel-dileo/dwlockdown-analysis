{
 "cells": [
  {
   "cell_type": "markdown",
   "metadata": {},
   "source": [
    "Analysis of the interactions per minute in order to reconstruct the highlights starting from the time histograms.<br><br>\n",
    "$\\textit{The Girl in the Fireplace}$ schedule:\n",
    "- H 19.00-19.45(BST) : Episode on BBC One.\n",
    "- H 19.45: New inedited video on youtube.\n",
    "<br><br>\n",
    "$\\textit{The Zygon Invasion / Inversion}$ schedule:\n",
    "- H 18.30(BST): New inedited content.\n",
    "- H 19.00-19.15: Speech of premier Boris Johnson on BBC One.\n",
    "- H 19.15-20.00: Episode 1 on BBC One.\n",
    "- H 20.00-20.15: Tea break.\n",
    "- H 21.15: Episode 2 on BBC One."
   ]
  },
  {
   "cell_type": "code",
   "execution_count": 1,
   "metadata": {},
   "outputs": [],
   "source": [
    "import pandas as pd\n",
    "from pandas import Grouper\n",
    "import json\n",
    "import matplotlib.pyplot as plt\n",
    "from datetime import datetime,timedelta\n",
    "import numpy as np\n",
    "import twitter\n",
    "from scipy.stats import iqr"
   ]
  },
  {
   "cell_type": "markdown",
   "metadata": {},
   "source": [
    "## Episode 2x04: The girl in the Fireplace"
   ]
  },
  {
   "cell_type": "code",
   "execution_count": 2,
   "metadata": {},
   "outputs": [],
   "source": [
    "dfsporco_2x04 = pd.read_json('tweet/tweets_2x04.json')\n",
    "tweets_2x04 = dfsporco_2x04['data']\n",
    "interactions_2x04 = [{'author_id':tweet['author_id'],\\\n",
    "           'text': tweet['text'],\\\n",
    "           'created_at': tweet['created_at']}\\\n",
    "          for tweet in tweets_2x04]\n",
    "\n",
    "df_2x04 = pd.DataFrame(interactions_2x04)"
   ]
  },
  {
   "cell_type": "code",
   "execution_count": 3,
   "metadata": {},
   "outputs": [
    {
     "data": {
      "text/html": [
       "<div>\n",
       "<style scoped>\n",
       "    .dataframe tbody tr th:only-of-type {\n",
       "        vertical-align: middle;\n",
       "    }\n",
       "\n",
       "    .dataframe tbody tr th {\n",
       "        vertical-align: top;\n",
       "    }\n",
       "\n",
       "    .dataframe thead th {\n",
       "        text-align: right;\n",
       "    }\n",
       "</style>\n",
       "<table border=\"1\" class=\"dataframe\">\n",
       "  <thead>\n",
       "    <tr style=\"text-align: right;\">\n",
       "      <th></th>\n",
       "      <th>author_id</th>\n",
       "      <th>text</th>\n",
       "      <th>created_at</th>\n",
       "    </tr>\n",
       "  </thead>\n",
       "  <tbody>\n",
       "    <tr>\n",
       "      <th>0</th>\n",
       "      <td>272497911</td>\n",
       "      <td>@Dalek6388 @Kb_wholocked @prkirkley @gossjam @...</td>\n",
       "      <td>2020-05-06T17:01:02.000Z</td>\n",
       "    </tr>\n",
       "    <tr>\n",
       "      <th>1</th>\n",
       "      <td>24791508</td>\n",
       "      <td>@SophiaMyles You’re probably not going to slee...</td>\n",
       "      <td>2020-05-06T17:01:09.000Z</td>\n",
       "    </tr>\n",
       "    <tr>\n",
       "      <th>2</th>\n",
       "      <td>2608740770</td>\n",
       "      <td>RT @bbcdoctorwho: #DoctorWho fans around the w...</td>\n",
       "      <td>2020-05-06T17:01:16.000Z</td>\n",
       "    </tr>\n",
       "    <tr>\n",
       "      <th>3</th>\n",
       "      <td>892280926503407616</td>\n",
       "      <td>RT @Emily_Rosina: If this is your first tweeta...</td>\n",
       "      <td>2020-05-06T17:01:40.000Z</td>\n",
       "    </tr>\n",
       "    <tr>\n",
       "      <th>4</th>\n",
       "      <td>110713444</td>\n",
       "      <td>@missy2938 @SophiaMyles @Zilfstar @savvy_maria...</td>\n",
       "      <td>2020-05-06T17:01:51.000Z</td>\n",
       "    </tr>\n",
       "  </tbody>\n",
       "</table>\n",
       "</div>"
      ],
      "text/plain": [
       "            author_id                                               text  \\\n",
       "0           272497911  @Dalek6388 @Kb_wholocked @prkirkley @gossjam @...   \n",
       "1            24791508  @SophiaMyles You’re probably not going to slee...   \n",
       "2          2608740770  RT @bbcdoctorwho: #DoctorWho fans around the w...   \n",
       "3  892280926503407616  RT @Emily_Rosina: If this is your first tweeta...   \n",
       "4           110713444  @missy2938 @SophiaMyles @Zilfstar @savvy_maria...   \n",
       "\n",
       "                 created_at  \n",
       "0  2020-05-06T17:01:02.000Z  \n",
       "1  2020-05-06T17:01:09.000Z  \n",
       "2  2020-05-06T17:01:16.000Z  \n",
       "3  2020-05-06T17:01:40.000Z  \n",
       "4  2020-05-06T17:01:51.000Z  "
      ]
     },
     "execution_count": 3,
     "metadata": {},
     "output_type": "execute_result"
    }
   ],
   "source": [
    "df_2x04.head()"
   ]
  },
  {
   "cell_type": "code",
   "execution_count": 4,
   "metadata": {},
   "outputs": [],
   "source": [
    "get_time = lambda x:\\\n",
    "            (datetime.strptime(x.split('T')[1].split('.')[0], '%H:%M:%S') +\\\n",
    "             timedelta(hours=1)) #Conversione per leggibilità a fuso orario BST\n",
    "df_2x04['time']= list(map(get_time,df_2x04['created_at']))"
   ]
  },
  {
   "cell_type": "code",
   "execution_count": 5,
   "metadata": {},
   "outputs": [
    {
     "data": {
      "text/html": [
       "<div>\n",
       "<style scoped>\n",
       "    .dataframe tbody tr th:only-of-type {\n",
       "        vertical-align: middle;\n",
       "    }\n",
       "\n",
       "    .dataframe tbody tr th {\n",
       "        vertical-align: top;\n",
       "    }\n",
       "\n",
       "    .dataframe thead th {\n",
       "        text-align: right;\n",
       "    }\n",
       "</style>\n",
       "<table border=\"1\" class=\"dataframe\">\n",
       "  <thead>\n",
       "    <tr style=\"text-align: right;\">\n",
       "      <th></th>\n",
       "      <th>author_id</th>\n",
       "      <th>text</th>\n",
       "      <th>created_at</th>\n",
       "      <th>time</th>\n",
       "    </tr>\n",
       "  </thead>\n",
       "  <tbody>\n",
       "    <tr>\n",
       "      <th>0</th>\n",
       "      <td>272497911</td>\n",
       "      <td>@Dalek6388 @Kb_wholocked @prkirkley @gossjam @...</td>\n",
       "      <td>2020-05-06T17:01:02.000Z</td>\n",
       "      <td>0.000000</td>\n",
       "    </tr>\n",
       "    <tr>\n",
       "      <th>1</th>\n",
       "      <td>24791508</td>\n",
       "      <td>@SophiaMyles You’re probably not going to slee...</td>\n",
       "      <td>2020-05-06T17:01:09.000Z</td>\n",
       "      <td>0.116667</td>\n",
       "    </tr>\n",
       "    <tr>\n",
       "      <th>2</th>\n",
       "      <td>2608740770</td>\n",
       "      <td>RT @bbcdoctorwho: #DoctorWho fans around the w...</td>\n",
       "      <td>2020-05-06T17:01:16.000Z</td>\n",
       "      <td>0.233333</td>\n",
       "    </tr>\n",
       "    <tr>\n",
       "      <th>3</th>\n",
       "      <td>892280926503407616</td>\n",
       "      <td>RT @Emily_Rosina: If this is your first tweeta...</td>\n",
       "      <td>2020-05-06T17:01:40.000Z</td>\n",
       "      <td>0.633333</td>\n",
       "    </tr>\n",
       "    <tr>\n",
       "      <th>4</th>\n",
       "      <td>110713444</td>\n",
       "      <td>@missy2938 @SophiaMyles @Zilfstar @savvy_maria...</td>\n",
       "      <td>2020-05-06T17:01:51.000Z</td>\n",
       "      <td>0.816667</td>\n",
       "    </tr>\n",
       "  </tbody>\n",
       "</table>\n",
       "</div>"
      ],
      "text/plain": [
       "            author_id                                               text  \\\n",
       "0           272497911  @Dalek6388 @Kb_wholocked @prkirkley @gossjam @...   \n",
       "1            24791508  @SophiaMyles You’re probably not going to slee...   \n",
       "2          2608740770  RT @bbcdoctorwho: #DoctorWho fans around the w...   \n",
       "3  892280926503407616  RT @Emily_Rosina: If this is your first tweeta...   \n",
       "4           110713444  @missy2938 @SophiaMyles @Zilfstar @savvy_maria...   \n",
       "\n",
       "                 created_at      time  \n",
       "0  2020-05-06T17:01:02.000Z  0.000000  \n",
       "1  2020-05-06T17:01:09.000Z  0.116667  \n",
       "2  2020-05-06T17:01:16.000Z  0.233333  \n",
       "3  2020-05-06T17:01:40.000Z  0.633333  \n",
       "4  2020-05-06T17:01:51.000Z  0.816667  "
      ]
     },
     "execution_count": 5,
     "metadata": {},
     "output_type": "execute_result"
    }
   ],
   "source": [
    "oldest_time = min(df_2x04['time'])\n",
    "df_2x04.time = df_2x04.time.apply(lambda d: (d - oldest_time).total_seconds()/60)\n",
    "df_2x04.head()"
   ]
  },
  {
   "cell_type": "code",
   "execution_count": 6,
   "metadata": {},
   "outputs": [],
   "source": [
    "pre_ep = df_2x04[df_2x04['time']<60]['time']\n",
    "ep = df_2x04[(df_2x04['time']>=60) & (df_2x04['time']<=103)]['time']\n",
    "inedito = df_2x04[df_2x04['time']>103]['time']"
   ]
  },
  {
   "cell_type": "code",
   "execution_count": 8,
   "metadata": {},
   "outputs": [
    {
     "data": {
      "image/png": "[encoded data removed]",
      "text/plain": [
       "<Figure size 432x288 with 1 Axes>"
      ]
     },
     "metadata": {
      "needs_background": "light"
     },
     "output_type": "display_data"
    }
   ],
   "source": [
    "freq_pre_ep, _ , _ = plt.hist(pre_ep,25,label='pre-ep')\n",
    "freq_ep2x04, xep2x04 , _ = plt.hist(ep,25,label='ep')\n",
    "freq_inedito,_,_= plt.hist(inedito,25,label='new-content')\n",
    "plt.legend(loc='upper right')\n",
    "plt.xlabel('Minuti')\n",
    "plt.ylabel('#tweets')\n",
    "plt.show()"
   ]
  },
  {
   "cell_type": "code",
   "execution_count": 9,
   "metadata": {},
   "outputs": [],
   "source": [
    "confronto_distrib_2x04 = pd.DataFrame(index=['Pre_ep','Episode','New-content'])\n",
    "confronto_distrib_2x04['median'] = [np.median(freq) for freq in [freq_pre_ep,freq_ep2x04,freq_inedito]]\n",
    "confronto_distrib_2x04['iqr'] = [iqr(freq) for freq in [freq_pre_ep,freq_ep2x04,freq_inedito]]"
   ]
  },
  {
   "cell_type": "code",
   "execution_count": 10,
   "metadata": {},
   "outputs": [
    {
     "data": {
      "text/html": [
       "<div>\n",
       "<style scoped>\n",
       "    .dataframe tbody tr th:only-of-type {\n",
       "        vertical-align: middle;\n",
       "    }\n",
       "\n",
       "    .dataframe tbody tr th {\n",
       "        vertical-align: top;\n",
       "    }\n",
       "\n",
       "    .dataframe thead th {\n",
       "        text-align: right;\n",
       "    }\n",
       "</style>\n",
       "<table border=\"1\" class=\"dataframe\">\n",
       "  <thead>\n",
       "    <tr style=\"text-align: right;\">\n",
       "      <th></th>\n",
       "      <th>median</th>\n",
       "      <th>iqr</th>\n",
       "    </tr>\n",
       "  </thead>\n",
       "  <tbody>\n",
       "    <tr>\n",
       "      <th>Pre_ep</th>\n",
       "      <td>19.0</td>\n",
       "      <td>8.0</td>\n",
       "    </tr>\n",
       "    <tr>\n",
       "      <th>Episode</th>\n",
       "      <td>274.0</td>\n",
       "      <td>49.0</td>\n",
       "    </tr>\n",
       "    <tr>\n",
       "      <th>New-content</th>\n",
       "      <td>83.0</td>\n",
       "      <td>84.0</td>\n",
       "    </tr>\n",
       "  </tbody>\n",
       "</table>\n",
       "</div>"
      ],
      "text/plain": [
       "             median   iqr\n",
       "Pre_ep         19.0   8.0\n",
       "Episode       274.0  49.0\n",
       "New-content    83.0  84.0"
      ]
     },
     "execution_count": 10,
     "metadata": {},
     "output_type": "execute_result"
    }
   ],
   "source": [
    "confronto_distrib_2x04"
   ]
  },
  {
   "cell_type": "markdown",
   "metadata": {},
   "source": [
    "## Episodes 9x07-08: The Zygon Invasion / Inversion"
   ]
  },
  {
   "cell_type": "code",
   "execution_count": 13,
   "metadata": {},
   "outputs": [],
   "source": [
    "dfsporco_zygon = pd.read_json('tweet/tweets_zygon.json')\n",
    "tweets_zygon = dfsporco_zygon['data']\n",
    "interactions_zygon = [{'author_id':tweet['author_id'],\\\n",
    "           'text': tweet['text'],\\\n",
    "           'created_at': tweet['created_at']}\\\n",
    "          for tweet in tweets_zygon]\n",
    "\n",
    "df_zygon = pd.DataFrame(interactions_zygon)"
   ]
  },
  {
   "cell_type": "code",
   "execution_count": 14,
   "metadata": {},
   "outputs": [
    {
     "data": {
      "text/html": [
       "<div>\n",
       "<style scoped>\n",
       "    .dataframe tbody tr th:only-of-type {\n",
       "        vertical-align: middle;\n",
       "    }\n",
       "\n",
       "    .dataframe tbody tr th {\n",
       "        vertical-align: top;\n",
       "    }\n",
       "\n",
       "    .dataframe thead th {\n",
       "        text-align: right;\n",
       "    }\n",
       "</style>\n",
       "<table border=\"1\" class=\"dataframe\">\n",
       "  <thead>\n",
       "    <tr style=\"text-align: right;\">\n",
       "      <th></th>\n",
       "      <th>author_id</th>\n",
       "      <th>text</th>\n",
       "      <th>created_at</th>\n",
       "      <th>time</th>\n",
       "    </tr>\n",
       "  </thead>\n",
       "  <tbody>\n",
       "    <tr>\n",
       "      <th>0</th>\n",
       "      <td>790329697255190528</td>\n",
       "      <td>RT @Emily_Rosina: TODAY! ZYGONS!\\n\\n6:30pm The...</td>\n",
       "      <td>2020-05-10T17:29:03.000Z</td>\n",
       "      <td>0.000000</td>\n",
       "    </tr>\n",
       "    <tr>\n",
       "      <th>1</th>\n",
       "      <td>1546656000</td>\n",
       "      <td>RT @Jali_Cat: “Christopher Wray, you’re not on...</td>\n",
       "      <td>2020-05-10T17:29:09.000Z</td>\n",
       "      <td>0.100000</td>\n",
       "    </tr>\n",
       "    <tr>\n",
       "      <th>2</th>\n",
       "      <td>1241375085509967872</td>\n",
       "      <td>@Meteorslog @bbcdoctorwho Take a day off son. ...</td>\n",
       "      <td>2020-05-10T17:29:10.000Z</td>\n",
       "      <td>0.116667</td>\n",
       "    </tr>\n",
       "    <tr>\n",
       "      <th>3</th>\n",
       "      <td>2678278945</td>\n",
       "      <td>RT @Emily_Rosina: Join in with a national twee...</td>\n",
       "      <td>2020-05-10T17:29:40.000Z</td>\n",
       "      <td>0.616667</td>\n",
       "    </tr>\n",
       "    <tr>\n",
       "      <th>4</th>\n",
       "      <td>1362920568</td>\n",
       "      <td>RT @ingridoliver100: Tonight from 7.15pm onwar...</td>\n",
       "      <td>2020-05-10T17:30:16.000Z</td>\n",
       "      <td>1.216667</td>\n",
       "    </tr>\n",
       "  </tbody>\n",
       "</table>\n",
       "</div>"
      ],
      "text/plain": [
       "             author_id                                               text  \\\n",
       "0   790329697255190528  RT @Emily_Rosina: TODAY! ZYGONS!\\n\\n6:30pm The...   \n",
       "1           1546656000  RT @Jali_Cat: “Christopher Wray, you’re not on...   \n",
       "2  1241375085509967872  @Meteorslog @bbcdoctorwho Take a day off son. ...   \n",
       "3           2678278945  RT @Emily_Rosina: Join in with a national twee...   \n",
       "4           1362920568  RT @ingridoliver100: Tonight from 7.15pm onwar...   \n",
       "\n",
       "                 created_at      time  \n",
       "0  2020-05-10T17:29:03.000Z  0.000000  \n",
       "1  2020-05-10T17:29:09.000Z  0.100000  \n",
       "2  2020-05-10T17:29:10.000Z  0.116667  \n",
       "3  2020-05-10T17:29:40.000Z  0.616667  \n",
       "4  2020-05-10T17:30:16.000Z  1.216667  "
      ]
     },
     "execution_count": 14,
     "metadata": {},
     "output_type": "execute_result"
    }
   ],
   "source": [
    "df_zygon['time']= list(map(get_time,df_zygon['created_at']))\n",
    "oldest_time = min(df_zygon['time'])\n",
    "df_zygon.time = df_zygon.time.apply(lambda d: (d - oldest_time).total_seconds()/60)\n",
    "df_zygon.head()"
   ]
  },
  {
   "cell_type": "code",
   "execution_count": 15,
   "metadata": {},
   "outputs": [],
   "source": [
    "inedito_zygon = df_zygon[df_zygon['time']<=30]['time']\n",
    "premier = df_zygon[(df_zygon['time']>30) & (df_zygon['time']<=45)]['time']\n",
    "ep1 = df_zygon[(df_zygon['time']>45) & (df_zygon['time']<=90)]['time']\n",
    "tea = df_zygon[(df_zygon['time']>90) & (df_zygon['time']<=105)]['time']\n",
    "ep2 = df_zygon[(df_zygon['time']>105) & (df_zygon['time']<=150)]['time']\n",
    "after_ep_zygon = df_zygon[df_zygon['time']>150]['time']"
   ]
  },
  {
   "cell_type": "code",
   "execution_count": 16,
   "metadata": {},
   "outputs": [
    {
     "data": {
      "image/png": "[encoded data removed]",
      "text/plain": [
       "<Figure size 432x288 with 1 Axes>"
      ]
     },
     "metadata": {
      "needs_background": "light"
     },
     "output_type": "display_data"
    }
   ],
   "source": [
    "freq_inedito_zygon, _ , _ = plt.hist(inedito_zygon,25,label='new-content')\n",
    "freq_premier, _ , _ = plt.hist(premier,25,label='premier-speech')\n",
    "freq_ep1_zygon, xep1_zygon , _ = plt.hist(ep1,25,label='ep1')\n",
    "freq_tea, _ , _ = plt.hist(tea,25,label='tea-break')\n",
    "freq_ep2_zygon, xep2_zygon , _ = plt.hist(ep2,25,label='ep2')\n",
    "freq_after_ep_zygon, _ , _ = plt.hist(after_ep_zygon,25,label='after-ep')\n",
    "plt.legend(loc='upper left')\n",
    "plt.xlabel('Minuti')\n",
    "plt.ylabel('#tweets')\n",
    "plt.show()"
   ]
  },
  {
   "cell_type": "code",
   "execution_count": 17,
   "metadata": {},
   "outputs": [],
   "source": [
    "freqs_zygon = [freq_inedito_zygon,freq_premier,freq_ep1_zygon,freq_tea,freq_ep2_zygon,freq_after_ep_zygon]\n",
    "confronto_distrib_zygon = pd.DataFrame(index=['New-content','Premier_Speech','Episode1','Tea_break','Episode2',\\\n",
    "                                             'After'])\n",
    "confronto_distrib_zygon['median'] = [np.median(freq) for freq in freqs_zygon]\n",
    "confronto_distrib_zygon['iqr'] = [iqr(freq) for freq in freqs_zygon]"
   ]
  },
  {
   "cell_type": "code",
   "execution_count": 18,
   "metadata": {},
   "outputs": [
    {
     "data": {
      "text/html": [
       "<div>\n",
       "<style scoped>\n",
       "    .dataframe tbody tr th:only-of-type {\n",
       "        vertical-align: middle;\n",
       "    }\n",
       "\n",
       "    .dataframe tbody tr th {\n",
       "        vertical-align: top;\n",
       "    }\n",
       "\n",
       "    .dataframe thead th {\n",
       "        text-align: right;\n",
       "    }\n",
       "</style>\n",
       "<table border=\"1\" class=\"dataframe\">\n",
       "  <thead>\n",
       "    <tr style=\"text-align: right;\">\n",
       "      <th></th>\n",
       "      <th>median</th>\n",
       "      <th>iqr</th>\n",
       "    </tr>\n",
       "  </thead>\n",
       "  <tbody>\n",
       "    <tr>\n",
       "      <th>New-content</th>\n",
       "      <td>10.0</td>\n",
       "      <td>9.0</td>\n",
       "    </tr>\n",
       "    <tr>\n",
       "      <th>Premier_Speech</th>\n",
       "      <td>11.0</td>\n",
       "      <td>5.0</td>\n",
       "    </tr>\n",
       "    <tr>\n",
       "      <th>Episode1</th>\n",
       "      <td>126.0</td>\n",
       "      <td>29.0</td>\n",
       "    </tr>\n",
       "    <tr>\n",
       "      <th>Tea_break</th>\n",
       "      <td>26.0</td>\n",
       "      <td>16.0</td>\n",
       "    </tr>\n",
       "    <tr>\n",
       "      <th>Episode2</th>\n",
       "      <td>135.0</td>\n",
       "      <td>44.0</td>\n",
       "    </tr>\n",
       "    <tr>\n",
       "      <th>After</th>\n",
       "      <td>45.0</td>\n",
       "      <td>40.0</td>\n",
       "    </tr>\n",
       "  </tbody>\n",
       "</table>\n",
       "</div>"
      ],
      "text/plain": [
       "                median   iqr\n",
       "New-content       10.0   9.0\n",
       "Premier_Speech    11.0   5.0\n",
       "Episode1         126.0  29.0\n",
       "Tea_break         26.0  16.0\n",
       "Episode2         135.0  44.0\n",
       "After             45.0  40.0"
      ]
     },
     "execution_count": 18,
     "metadata": {},
     "output_type": "execute_result"
    }
   ],
   "source": [
    "confronto_distrib_zygon"
   ]
  },
  {
   "cell_type": "markdown",
   "metadata": {},
   "source": [
    "# Highlights"
   ]
  },
  {
   "cell_type": "code",
   "execution_count": 16,
   "metadata": {},
   "outputs": [],
   "source": [
    "def get_best_minutes(bins_value,bins,delay=1):\n",
    "    mode = max(bins_value)\n",
    "    mode_index = [i for i in range(0,len(bins)-1) if bins_value[i] == mode][-1]\n",
    "    if mode_index == 0: \n",
    "        start = np.floor(bins[0])\n",
    "        end = np.ceil(bins[2])\n",
    "    else:\n",
    "        start = np.floor(bins[mode_index-1])\n",
    "        end = np.ceil(bins[mode_index+1])\n",
    "    \n",
    "    return (start-delay),(end-delay)"
   ]
  },
  {
   "cell_type": "code",
   "execution_count": 17,
   "metadata": {},
   "outputs": [],
   "source": [
    "start2x04 = 60.0\n",
    "start9x07 = 45.0\n",
    "start9x08 = 105.0"
   ]
  },
  {
   "cell_type": "code",
   "execution_count": 18,
   "metadata": {},
   "outputs": [
    {
     "name": "stdout",
     "output_type": "stream",
     "text": [
      "Best minutes of 2x04: (7.0, 12.0)\n"
     ]
    }
   ],
   "source": [
    "best2x04 = get_best_minutes(freq_ep2x04,\\\n",
    "                            list(map(lambda x: x-start2x04,xep2x04)))\n",
    "print(\"Best minutes of 2x04: {}\".format(best2x04))"
   ]
  },
  {
   "cell_type": "code",
   "execution_count": 19,
   "metadata": {},
   "outputs": [
    {
     "name": "stdout",
     "output_type": "stream",
     "text": [
      "Best minutes of 9x07: (15.0, 19.0)\n"
     ]
    }
   ],
   "source": [
    "best9x07 = get_best_minutes(freq_ep1_zygon,\\\n",
    "                            list(map(lambda x: x-start9x07,xep1_zygon)))\n",
    "print(\"Best minutes of 9x07: {}\".format(best9x07))"
   ]
  },
  {
   "cell_type": "code",
   "execution_count": 20,
   "metadata": {},
   "outputs": [
    {
     "name": "stdout",
     "output_type": "stream",
     "text": [
      "Best minutes of 9x08: (36.0, 41.0)\n"
     ]
    }
   ],
   "source": [
    "best9x08 = get_best_minutes(freq_ep2_zygon,\\\n",
    "                            list(map(lambda x: x-start9x08,xep2_zygon)))\n",
    "print(\"Best minutes of 9x08: {}\".format(best9x08))"
   ]
  },
  {
   "cell_type": "markdown",
   "metadata": {},
   "source": [
    "# The Zygon Inversion: Best clip and related tweets"
   ]
  },
  {
   "cell_type": "code",
   "execution_count": 21,
   "metadata": {},
   "outputs": [],
   "source": [
    "from moviepy.video.io.ffmpeg_tools import ffmpeg_extract_subclip\n",
    "\n",
    "def get_highlights_clip(source,highlights):\n",
    "    start_time, end_time = highlights\n",
    "    start_time*=60\n",
    "    end_time*=60\n",
    "    target = source.split('.')[0]+'_best.mp4'\n",
    "    ffmpeg_extract_subclip(source, start_time, end_time, targetname=target)\n",
    "    \n",
    "def get_highlights_tweets_text(influencers_id,df_ep,time_start_ep,highlights_time):\n",
    "    influencers_tweets = [tweet for _,tweet in df_ep.iterrows()\\\n",
    "                          if (tweet['author_id'] in influencers_id)]\n",
    "    \n",
    "    highlights_tweets = list(filter(lambda x: (x['time']-time_start_ep)>=highlights_time[0] and \\\n",
    "                                          (x['time']-time_start_ep)<=highlights_time[1] and \\\n",
    "                                         'RT' not in x['text'],influencers_tweets))\n",
    "    \n",
    "    highlights_tweets_text = [tweet['text'] for tweet in highlights_tweets]\n",
    "    \n",
    "    return highlights_tweets_text"
   ]
  },
  {
   "cell_type": "code",
   "execution_count": 22,
   "metadata": {},
   "outputs": [],
   "source": [
    "with open('info/analysis_utility.json','r') as rf:\n",
    "    influencers = eval(json.load(rf)['influencers'])"
   ]
  },
  {
   "cell_type": "code",
   "execution_count": 23,
   "metadata": {},
   "outputs": [],
   "source": [
    "twitter_keys = json.load(open('info/application_keys.json'))['twitter']\n",
    "consumer_key = twitter_keys['API_key']\n",
    "consumer_secret = twitter_keys['API_secret']\n",
    "bearer_token = twitter.oauth2_dance(consumer_key=consumer_key,consumer_secret=consumer_secret)\n",
    "twitter_api = twitter.Twitter(auth=twitter.OAuth2(bearer_token=bearer_token))"
   ]
  },
  {
   "cell_type": "code",
   "execution_count": 24,
   "metadata": {},
   "outputs": [],
   "source": [
    "influencers_id = [twitter_api.users.show(screen_name=influencer)['id_str'] for influencer in influencers]"
   ]
  },
  {
   "cell_type": "code",
   "execution_count": 25,
   "metadata": {},
   "outputs": [
    {
     "name": "stdout",
     "output_type": "stream",
     "text": [
      "Moviepy - Running:\n",
      ">>> \"+ \" \".join(cmd)\n",
      "Moviepy - Command successful\n"
     ]
    }
   ],
   "source": [
    "get_highlights_clip('the_zygon_inversion.mkv',best9x08)"
   ]
  },
  {
   "cell_type": "code",
   "execution_count": 26,
   "metadata": {},
   "outputs": [
    {
     "name": "stderr",
     "output_type": "stream",
     "text": [
      "/home/manueldileo/anaconda3/lib/python3.7/site-packages/IPython/core/display.py:701: UserWarning: Consider using IPython.display.IFrame instead\n",
      "  warnings.warn(\"Consider using IPython.display.IFrame instead\")\n"
     ]
    },
    {
     "data": {
      "text/html": [
       "<iframe width=\"560\" height=\"315\" src=\"https://www.youtube.com/embed/BJP9o4BEziI\" frameborder=\"0\" allow=\"accelerometer; autoplay; encrypted-media; gyroscope; picture-in-picture\" allowfullscreen></iframe>"
      ],
      "text/plain": [
       "<IPython.core.display.HTML object>"
      ]
     },
     "execution_count": 26,
     "metadata": {},
     "output_type": "execute_result"
    }
   ],
   "source": [
    "from IPython.display import HTML\n",
    "\n",
    "# Youtube\n",
    "HTML('<iframe width=\"560\" height=\"315\" src=\"https://www.youtube.com/embed/BJP9o4BEziI\" frameborder=\"0\" allow=\"accelerometer; autoplay; encrypted-media; gyroscope; picture-in-picture\" allowfullscreen></iframe>')\n"
   ]
  },
  {
   "cell_type": "code",
   "execution_count": 27,
   "metadata": {},
   "outputs": [
    {
     "data": {
      "text/plain": [
       "['Peter doing this speech was the most extraordinary thing I’ve ever witnessed. Filmed it 3 times, pages of dialogue, each time he did something different. We were all crying, all of us - Jenna, Jemma &amp; me. Was a nightmare for continuity. Extraordinary writing by @mrpeterharness.']"
      ]
     },
     "execution_count": 27,
     "metadata": {},
     "output_type": "execute_result"
    }
   ],
   "source": [
    "get_highlights_tweets_text(influencers_id,df_zygon,start9x08,best9x08)"
   ]
  }
 ],
 "metadata": {
  "kernelspec": {
   "display_name": "Python 3",
   "language": "python",
   "name": "python3"
  },
  "language_info": {
   "codemirror_mode": {
    "name": "ipython",
    "version": 3
   },
   "file_extension": ".py",
   "mimetype": "text/x-python",
   "name": "python",
   "nbconvert_exporter": "python",
   "pygments_lexer": "ipython3",
   "version": "3.7.3"
  }
 },
 "nbformat": 4,
 "nbformat_minor": 4
}
