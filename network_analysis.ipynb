{
 "cells": [
  {
   "cell_type": "code",
   "execution_count": 1,
   "metadata": {},
   "outputs": [],
   "source": [
    "import networkx as nx\n",
    "import pandas as pd\n",
    "import numpy as np\n",
    "import matplotlib.pyplot as plt\n",
    "from statsmodels.distributions.empirical_distribution import ECDF\n",
    "import scipy\n",
    "import json\n",
    "import twitter"
   ]
  },
  {
   "cell_type": "code",
   "execution_count": 2,
   "metadata": {},
   "outputs": [
    {
     "data": {
      "text/html": [
       "<div>\n",
       "<style scoped>\n",
       "    .dataframe tbody tr th:only-of-type {\n",
       "        vertical-align: middle;\n",
       "    }\n",
       "\n",
       "    .dataframe tbody tr th {\n",
       "        vertical-align: top;\n",
       "    }\n",
       "\n",
       "    .dataframe thead th {\n",
       "        text-align: right;\n",
       "    }\n",
       "</style>\n",
       "<table border=\"1\" class=\"dataframe\">\n",
       "  <thead>\n",
       "    <tr style=\"text-align: right;\">\n",
       "      <th></th>\n",
       "      <th>source</th>\n",
       "      <th>target</th>\n",
       "      <th>weight</th>\n",
       "    </tr>\n",
       "  </thead>\n",
       "  <tbody>\n",
       "    <tr>\n",
       "      <th>0</th>\n",
       "      <td>1000117892640329730</td>\n",
       "      <td>2195550221</td>\n",
       "      <td>1</td>\n",
       "    </tr>\n",
       "    <tr>\n",
       "      <th>1</th>\n",
       "      <td>1001093201330163713</td>\n",
       "      <td>1241307294148825093</td>\n",
       "      <td>4</td>\n",
       "    </tr>\n",
       "    <tr>\n",
       "      <th>2</th>\n",
       "      <td>1001093201330163713</td>\n",
       "      <td>1242948664110321664</td>\n",
       "      <td>1</td>\n",
       "    </tr>\n",
       "    <tr>\n",
       "      <th>3</th>\n",
       "      <td>1001093201330163713</td>\n",
       "      <td>197853971</td>\n",
       "      <td>1</td>\n",
       "    </tr>\n",
       "    <tr>\n",
       "      <th>4</th>\n",
       "      <td>1001093201330163713</td>\n",
       "      <td>2185194511</td>\n",
       "      <td>1</td>\n",
       "    </tr>\n",
       "  </tbody>\n",
       "</table>\n",
       "</div>"
      ],
      "text/plain": [
       "                source               target  weight\n",
       "0  1000117892640329730           2195550221       1\n",
       "1  1001093201330163713  1241307294148825093       4\n",
       "2  1001093201330163713  1242948664110321664       1\n",
       "3  1001093201330163713            197853971       1\n",
       "4  1001093201330163713           2185194511       1"
      ]
     },
     "execution_count": 2,
     "metadata": {},
     "output_type": "execute_result"
    }
   ],
   "source": [
    "df_all = pd.read_csv('dataset/all_ep.csv')\n",
    "df_all.head()"
   ]
  },
  {
   "cell_type": "code",
   "execution_count": 3,
   "metadata": {},
   "outputs": [],
   "source": [
    "Gmentions_all = nx.DiGraph()\n",
    "for _, edge in df_all.iterrows():\n",
    "    Gmentions_all.add_edge(str(edge['source']), str(edge['target']), weight=edge['weight'])"
   ]
  },
  {
   "cell_type": "markdown",
   "metadata": {},
   "source": [
    "# Preprocessing"
   ]
  },
  {
   "cell_type": "markdown",
   "metadata": {},
   "source": [
    "Rimuovo i cappi dalla rete ottenuta"
   ]
  },
  {
   "cell_type": "code",
   "execution_count": 4,
   "metadata": {},
   "outputs": [],
   "source": [
    "Gmentions_all.remove_edges_from(nx.selfloop_edges(Gmentions_all))"
   ]
  },
  {
   "cell_type": "markdown",
   "metadata": {},
   "source": [
    "# Network Info"
   ]
  },
  {
   "cell_type": "code",
   "execution_count": 5,
   "metadata": {},
   "outputs": [
    {
     "name": "stdout",
     "output_type": "stream",
     "text": [
      "Number of nodes 5208\n",
      "Number of edges 16520\n"
     ]
    }
   ],
   "source": [
    "print(\"Number of nodes {}\".format(Gmentions_all.order()))\n",
    "print(\"Number of edges {}\".format(Gmentions_all.size()))"
   ]
  },
  {
   "cell_type": "code",
   "execution_count": 6,
   "metadata": {},
   "outputs": [
    {
     "name": "stdout",
     "output_type": "stream",
     "text": [
      "Density 0.0006091882102463392\n"
     ]
    }
   ],
   "source": [
    "density = nx.density(Gmentions_all)\n",
    "print(\"Density {}\".format(density))"
   ]
  },
  {
   "cell_type": "markdown",
   "metadata": {},
   "source": [
    "## Degree Analysis"
   ]
  },
  {
   "cell_type": "code",
   "execution_count": 7,
   "metadata": {},
   "outputs": [],
   "source": [
    "degree = list(dict(Gmentions_all.degree(weight='weight')).values())"
   ]
  },
  {
   "cell_type": "code",
   "execution_count": 8,
   "metadata": {},
   "outputs": [
    {
     "name": "stdout",
     "output_type": "stream",
     "text": [
      "DEGREE\n",
      "Mean degree: 16.41321044546851\n",
      "Standard deviation: 176.56805538335334\n",
      "Median: 2.0\n",
      "Min: 0\n",
      "Max: 9560\n"
     ]
    }
   ],
   "source": [
    "print('DEGREE')\n",
    "print('Mean degree: {}'.format(np.mean(degree)))\n",
    "print('Standard deviation: {}'.format(np.std(degree)))\n",
    "print('Median: {}'.format(np.median(degree)))\n",
    "print('Min: {}'.format(np.min(degree)))\n",
    "print('Max: {}'.format(np.max(degree)))"
   ]
  },
  {
   "cell_type": "code",
   "execution_count": 9,
   "metadata": {},
   "outputs": [],
   "source": [
    "in_degree = list(dict(Gmentions_all.in_degree(weight='weight')).values())"
   ]
  },
  {
   "cell_type": "code",
   "execution_count": 10,
   "metadata": {},
   "outputs": [
    {
     "name": "stdout",
     "output_type": "stream",
     "text": [
      "IN_DEGREE\n",
      "Mean degree: 8.206605222734256\n",
      "Standard deviation: 172.78208735454987\n",
      "Median: 0.0\n",
      "Min: 0\n",
      "Max: 9535\n"
     ]
    }
   ],
   "source": [
    "print('IN_DEGREE')\n",
    "print('Mean degree: {}'.format(np.mean(in_degree)))\n",
    "print('Standard deviation: {}'.format(np.std(in_degree)))\n",
    "print('Median: {}'.format(np.median(in_degree)))\n",
    "print('Min: {}'.format(np.min(in_degree)))\n",
    "print('Max: {}'.format(np.max(in_degree)))"
   ]
  },
  {
   "cell_type": "code",
   "execution_count": 11,
   "metadata": {},
   "outputs": [],
   "source": [
    "out_degree = list(dict(Gmentions_all.out_degree(weight='weight')).values())"
   ]
  },
  {
   "cell_type": "code",
   "execution_count": 12,
   "metadata": {},
   "outputs": [
    {
     "name": "stdout",
     "output_type": "stream",
     "text": [
      "OUT_DEGREE\n",
      "Mean degree: 8.206605222734256\n",
      "Standard deviation: 28.618939879245925\n",
      "Median: 2.0\n",
      "Min: 0\n",
      "Max: 861\n"
     ]
    }
   ],
   "source": [
    "print('OUT_DEGREE')\n",
    "print('Mean degree: {}'.format(np.mean(out_degree)))\n",
    "print('Standard deviation: {}'.format(np.std(out_degree)))\n",
    "print('Median: {}'.format(np.median(out_degree)))\n",
    "print('Min: {}'.format(np.min(out_degree)))\n",
    "print('Max: {}'.format(np.max(out_degree)))"
   ]
  },
  {
   "cell_type": "code",
   "execution_count": 13,
   "metadata": {},
   "outputs": [
    {
     "data": {
      "text/plain": [
       "<matplotlib.legend.Legend at 0x7f9fe4e3cf60>"
      ]
     },
     "execution_count": 13,
     "metadata": {},
     "output_type": "execute_result"
    },
    {
     "data": {
      "image/png": "[encoded data removed]",
      "text/plain": [
       "<Figure size 576x288 with 1 Axes>"
      ]
     },
     "metadata": {
      "needs_background": "light"
     },
     "output_type": "display_data"
    }
   ],
   "source": [
    "cdf = ECDF(in_degree)\n",
    "x = np.unique(in_degree)\n",
    "y = cdf(x)\n",
    "fig_cdf = plt.figure(figsize=(8,4))\n",
    "axes = fig_cdf.gca()\n",
    "axes.loglog(x,1-y,marker='o',ms=8,label='In-degree')\n",
    "cdf = ECDF(out_degree)\n",
    "x = np.unique(out_degree)\n",
    "y = cdf(x)\n",
    "axes.loglog(x,1-y,marker='+',ms=8,label='Out-degree')\n",
    "axes.set_xlabel('in, out-Degree',size=20)\n",
    "axes.set_ylabel('ECCDF', size = 20)\n",
    "axes.legend()"
   ]
  },
  {
   "cell_type": "code",
   "execution_count": 14,
   "metadata": {},
   "outputs": [],
   "source": [
    "p = density\n",
    "random_graph = nx.fast_gnp_random_graph(Gmentions_all.order(),p,directed=True)"
   ]
  },
  {
   "cell_type": "code",
   "execution_count": 15,
   "metadata": {},
   "outputs": [
    {
     "data": {
      "text/plain": [
       "<matplotlib.legend.Legend at 0x7f9fe2f86fd0>"
      ]
     },
     "execution_count": 15,
     "metadata": {},
     "output_type": "execute_result"
    },
    {
     "data": {
      "image/png": "[encoded data removed]",
      "text/plain": [
       "<Figure size 576x288 with 1 Axes>"
      ]
     },
     "metadata": {
      "needs_background": "light"
     },
     "output_type": "display_data"
    }
   ],
   "source": [
    "random_degree = list(dict(random_graph.degree()).values())\n",
    "cdf = ECDF(degree)\n",
    "x = np.unique(degree)\n",
    "y = cdf(x)\n",
    "\n",
    "cdf_random = ECDF(random_degree)\n",
    "x_random = np.unique(random_degree)\n",
    "y_random = cdf_random(x_random)\n",
    "\n",
    "fig_cdf = plt.figure(figsize=(8,4))\n",
    "axes = fig_cdf.gca()\n",
    "axes.set_xscale('log')\n",
    "axes.set_yscale('log')\n",
    "axes.loglog(x,1-y,marker='o',ms=8, linestyle='--',label='Graph')\n",
    "axes.loglog(x_random,1-y_random,marker='+',ms=10, linestyle='--',label='Random-Network')\n",
    "axes.set_xlabel('Degree',size=20)\n",
    "axes.set_ylabel('ECCDF', size = 20)\n",
    "axes.legend()"
   ]
  },
  {
   "cell_type": "code",
   "execution_count": 16,
   "metadata": {},
   "outputs": [
    {
     "data": {
      "text/plain": [
       "<matplotlib.legend.Legend at 0x7f9fe2464ef0>"
      ]
     },
     "execution_count": 16,
     "metadata": {},
     "output_type": "execute_result"
    },
    {
     "data": {
      "image/png": "[encoded data removed]",
      "text/plain": [
       "<Figure size 576x288 with 1 Axes>"
      ]
     },
     "metadata": {
      "needs_background": "light"
     },
     "output_type": "display_data"
    }
   ],
   "source": [
    "random_in_degree = list(dict(random_graph.in_degree()).values())\n",
    "\n",
    "cdf = ECDF(in_degree)\n",
    "x = np.unique(in_degree)\n",
    "y = cdf(x)\n",
    "\n",
    "cdf_random = ECDF(random_in_degree)\n",
    "x_random = np.unique(random_in_degree)\n",
    "y_random = cdf_random(x_random)\n",
    "\n",
    "fig_cdf = plt.figure(figsize=(8,4))\n",
    "axes = fig_cdf.gca()\n",
    "axes.set_xscale('log')\n",
    "axes.set_yscale('log')\n",
    "axes.loglog(x,1-y,marker='o',ms=8, linestyle='--',label='Graph')\n",
    "axes.loglog(x_random,1-y_random,marker='+',ms=10, linestyle='--',label='Random-Network')\n",
    "axes.set_xlabel('In_degree',size=20)\n",
    "axes.set_ylabel('ECCDF', size = 20)\n",
    "axes.legend()"
   ]
  },
  {
   "cell_type": "code",
   "execution_count": 17,
   "metadata": {},
   "outputs": [
    {
     "data": {
      "text/plain": [
       "<matplotlib.legend.Legend at 0x7f9fe2339eb8>"
      ]
     },
     "execution_count": 17,
     "metadata": {},
     "output_type": "execute_result"
    },
    {
     "data": {
      "image/png": "[encoded data removed]",
      "text/plain": [
       "<Figure size 576x288 with 1 Axes>"
      ]
     },
     "metadata": {
      "needs_background": "light"
     },
     "output_type": "display_data"
    }
   ],
   "source": [
    "random_out_degree = list(dict(random_graph.out_degree()).values())\n",
    "cdf = ECDF(out_degree)\n",
    "x = np.unique(out_degree)\n",
    "y = cdf(x)\n",
    "\n",
    "cdf_random = ECDF(random_out_degree)\n",
    "x_random = np.unique(random_out_degree)\n",
    "y_random = cdf_random(x_random)\n",
    "\n",
    "fig_cdf = plt.figure(figsize=(8,4))\n",
    "axes = fig_cdf.gca()\n",
    "axes.set_xscale('log')\n",
    "axes.set_yscale('log')\n",
    "axes.loglog(x,1-y,marker='o',ms=8, linestyle='--',label='Graph')\n",
    "axes.loglog(x_random,1-y_random,marker='+',ms=10, linestyle='--',label='Random-Network')\n",
    "axes.set_xlabel('Out_degree',size=20)\n",
    "axes.set_ylabel('ECCDF', size = 20)\n",
    "axes.legend()"
   ]
  },
  {
   "cell_type": "markdown",
   "metadata": {},
   "source": [
    "## Connectivity"
   ]
  },
  {
   "cell_type": "code",
   "execution_count": 18,
   "metadata": {},
   "outputs": [
    {
     "name": "stdout",
     "output_type": "stream",
     "text": [
      "Strongly connected components: 4449\n",
      "Weakly connected components: 42\n"
     ]
    }
   ],
   "source": [
    "num_weakly_cc = nx.number_weakly_connected_components(Gmentions_all)\n",
    "num_strong_cc = nx.number_strongly_connected_components(Gmentions_all)\n",
    "print(\"Strongly connected components: {}\".format(num_strong_cc))\n",
    "print(\"Weakly connected components: {}\".format(num_weakly_cc))"
   ]
  },
  {
   "cell_type": "code",
   "execution_count": 19,
   "metadata": {},
   "outputs": [],
   "source": [
    "weakly_cc = list(nx.weakly_connected_components(Gmentions_all))\n",
    "len_cc = [len(wcc) for wcc in weakly_cc]\n",
    "counts = pd.Series(len_cc).value_counts().sort_index()"
   ]
  },
  {
   "cell_type": "code",
   "execution_count": 20,
   "metadata": {},
   "outputs": [
    {
     "data": {
      "text/plain": [
       "Text(0, 0.5, 'Count')"
      ]
     },
     "execution_count": 20,
     "metadata": {},
     "output_type": "execute_result"
    },
    {
     "data": {
      "image/png": "[encoded data removed]",
      "text/plain": [
       "<Figure size 576x288 with 1 Axes>"
      ]
     },
     "metadata": {
      "needs_background": "light"
     },
     "output_type": "display_data"
    }
   ],
   "source": [
    "fig_gc = plt.figure(figsize=(8,4))\n",
    "axes = fig_gc.gca()\n",
    "axes.set_xscale('log')\n",
    "axes.set_yscale('log')\n",
    "axes.loglog(counts.index,counts.values,marker='o',ms=8, linestyle='None')\n",
    "axes.set_xlabel('Weakly connected component size',size=20)\n",
    "axes.set_ylabel('Count', size = 20)"
   ]
  },
  {
   "cell_type": "code",
   "execution_count": 21,
   "metadata": {},
   "outputs": [
    {
     "name": "stdout",
     "output_type": "stream",
     "text": [
      "Giant component diameter: 8\n"
     ]
    }
   ],
   "source": [
    "gc = sorted(nx.connected_components(Gmentions_all.to_undirected()))[0]\n",
    "Ggc = Gmentions_all.subgraph(gc).to_undirected()\n",
    "d = nx.diameter(Ggc)\n",
    "print('Giant component diameter: {}'.format(d))"
   ]
  },
  {
   "cell_type": "markdown",
   "metadata": {},
   "source": [
    "## Transitivity"
   ]
  },
  {
   "cell_type": "code",
   "execution_count": 22,
   "metadata": {},
   "outputs": [],
   "source": [
    "global_clustering_coeff = nx.transitivity(Gmentions_all.to_undirected())\n",
    "avg_local_clustering_coeff = nx.average_clustering(Gmentions_all.to_undirected())\n",
    "avg_local_clustering_coeff0 = nx.average_clustering(Gmentions_all.to_undirected(),\\\n",
    "                                                   count_zeros=False)"
   ]
  },
  {
   "cell_type": "code",
   "execution_count": 23,
   "metadata": {},
   "outputs": [
    {
     "name": "stdout",
     "output_type": "stream",
     "text": [
      "global clustering coeff: 0.013882374165614289\n",
      "avg local clustering coeff: 0.32671754666310765\n",
      "avg local clustering coeff >0 : 0.6649257456121395\n"
     ]
    }
   ],
   "source": [
    "print('global clustering coeff: {}'.format(global_clustering_coeff))\n",
    "print('avg local clustering coeff: {}'.format(avg_local_clustering_coeff))\n",
    "print('avg local clustering coeff >0 : {}'\\\n",
    "      .format(avg_local_clustering_coeff0))"
   ]
  },
  {
   "cell_type": "markdown",
   "metadata": {},
   "source": [
    "## Reciprocity"
   ]
  },
  {
   "cell_type": "code",
   "execution_count": 24,
   "metadata": {},
   "outputs": [
    {
     "name": "stdout",
     "output_type": "stream",
     "text": [
      "Reciprocity: 0.03656174334140436\n"
     ]
    }
   ],
   "source": [
    "print('Reciprocity: {}'.format(nx.overall_reciprocity(Gmentions_all)))"
   ]
  },
  {
   "cell_type": "markdown",
   "metadata": {},
   "source": [
    "Very low reciprocity is typical of an information network."
   ]
  },
  {
   "cell_type": "markdown",
   "metadata": {},
   "source": [
    "# Centrality"
   ]
  },
  {
   "cell_type": "code",
   "execution_count": 25,
   "metadata": {},
   "outputs": [],
   "source": [
    "influencers_id = [(str(k),v) for k,v in dict(Gmentions_all.in_degree(weight='weight')).items()\\\n",
    "                  if v>=np.percentile(in_degree,99.9)]"
   ]
  },
  {
   "cell_type": "code",
   "execution_count": 26,
   "metadata": {},
   "outputs": [],
   "source": [
    "twitter_keys = json.load(open('info/application_keys.json'))['twitter']\n",
    "consumer_key = twitter_keys['API_key']\n",
    "consumer_secret = twitter_keys['API_secret']\n",
    "bearer_token = twitter.oauth2_dance(consumer_key=consumer_key,consumer_secret=consumer_secret)\n",
    "twitter_api = twitter.Twitter(auth=twitter.OAuth2(bearer_token=bearer_token))"
   ]
  },
  {
   "cell_type": "code",
   "execution_count": 27,
   "metadata": {},
   "outputs": [],
   "source": [
    "in_deg_cen = nx.in_degree_centrality(Gmentions_all)\n",
    "out_deg_cen =  nx.out_degree_centrality(Gmentions_all)\n",
    "pr_centrality = nx.pagerank_scipy(Gmentions_all,weight='weight',alpha=.85)"
   ]
  },
  {
   "cell_type": "code",
   "execution_count": 28,
   "metadata": {},
   "outputs": [],
   "source": [
    "influencers_username_centrality = [(twitter_api.users.show(user_id=k)['screen_name'],v,\\\n",
    "                                    in_deg_cen[k],\\\n",
    "                                    Gmentions_all.out_degree(weight='weight')[k],\\\n",
    "                                    out_deg_cen[k],\\\n",
    "                                    pr_centrality[k])\\\n",
    "                                for (k,v) in influencers_id]"
   ]
  },
  {
   "cell_type": "code",
   "execution_count": 29,
   "metadata": {},
   "outputs": [
    {
     "data": {
      "text/html": [
       "<div>\n",
       "<style scoped>\n",
       "    .dataframe tbody tr th:only-of-type {\n",
       "        vertical-align: middle;\n",
       "    }\n",
       "\n",
       "    .dataframe tbody tr th {\n",
       "        vertical-align: top;\n",
       "    }\n",
       "\n",
       "    .dataframe thead th {\n",
       "        text-align: right;\n",
       "    }\n",
       "</style>\n",
       "<table border=\"1\" class=\"dataframe\">\n",
       "  <thead>\n",
       "    <tr style=\"text-align: right;\">\n",
       "      <th></th>\n",
       "      <th>in_degree</th>\n",
       "      <th>in_degree_centrality</th>\n",
       "      <th>out_degree</th>\n",
       "      <th>out_degree_centrality</th>\n",
       "      <th>pagerank</th>\n",
       "    </tr>\n",
       "    <tr>\n",
       "      <th>user</th>\n",
       "      <th></th>\n",
       "      <th></th>\n",
       "      <th></th>\n",
       "      <th></th>\n",
       "      <th></th>\n",
       "    </tr>\n",
       "  </thead>\n",
       "  <tbody>\n",
       "    <tr>\n",
       "      <th>StevenWMoffat</th>\n",
       "      <td>9535</td>\n",
       "      <td>0.400038</td>\n",
       "      <td>25</td>\n",
       "      <td>0.001152</td>\n",
       "      <td>0.179896</td>\n",
       "    </tr>\n",
       "    <tr>\n",
       "      <th>Emily_Rosina</th>\n",
       "      <td>3209</td>\n",
       "      <td>0.219896</td>\n",
       "      <td>62</td>\n",
       "      <td>0.005569</td>\n",
       "      <td>0.041221</td>\n",
       "    </tr>\n",
       "    <tr>\n",
       "      <th>russelldavies63</th>\n",
       "      <td>3600</td>\n",
       "      <td>0.205301</td>\n",
       "      <td>31</td>\n",
       "      <td>0.001344</td>\n",
       "      <td>0.110193</td>\n",
       "    </tr>\n",
       "    <tr>\n",
       "      <th>SophiaMyles</th>\n",
       "      <td>3031</td>\n",
       "      <td>0.198963</td>\n",
       "      <td>30</td>\n",
       "      <td>0.003841</td>\n",
       "      <td>0.059488</td>\n",
       "    </tr>\n",
       "    <tr>\n",
       "      <th>mrpeterharness</th>\n",
       "      <td>4022</td>\n",
       "      <td>0.120223</td>\n",
       "      <td>17</td>\n",
       "      <td>0.000960</td>\n",
       "      <td>0.029042</td>\n",
       "    </tr>\n",
       "    <tr>\n",
       "      <th>ShearmanRobert</th>\n",
       "      <td>2271</td>\n",
       "      <td>0.116766</td>\n",
       "      <td>17</td>\n",
       "      <td>0.002497</td>\n",
       "      <td>0.028079</td>\n",
       "    </tr>\n",
       "  </tbody>\n",
       "</table>\n",
       "</div>"
      ],
      "text/plain": [
       "                 in_degree  in_degree_centrality  out_degree  \\\n",
       "user                                                           \n",
       "StevenWMoffat         9535              0.400038          25   \n",
       "Emily_Rosina          3209              0.219896          62   \n",
       "russelldavies63       3600              0.205301          31   \n",
       "SophiaMyles           3031              0.198963          30   \n",
       "mrpeterharness        4022              0.120223          17   \n",
       "ShearmanRobert        2271              0.116766          17   \n",
       "\n",
       "                 out_degree_centrality  pagerank  \n",
       "user                                              \n",
       "StevenWMoffat                 0.001152  0.179896  \n",
       "Emily_Rosina                  0.005569  0.041221  \n",
       "russelldavies63               0.001344  0.110193  \n",
       "SophiaMyles                   0.003841  0.059488  \n",
       "mrpeterharness                0.000960  0.029042  \n",
       "ShearmanRobert                0.002497  0.028079  "
      ]
     },
     "execution_count": 29,
     "metadata": {},
     "output_type": "execute_result"
    }
   ],
   "source": [
    "influencers_table = pd.DataFrame(influencers_username_centrality,\\\n",
    "                                 columns=['user','in_degree','in_degree_centrality','out_degree',\\\n",
    "                                         'out_degree_centrality','pagerank',])\n",
    "influencers_table.set_index('user',inplace=True)\n",
    "influencers_table.sort_values(by='in_degree_centrality',inplace=True,ascending=False)\n",
    "influencers_table"
   ]
  },
  {
   "cell_type": "markdown",
   "metadata": {},
   "source": [
    "Most of the influencers are the writers or showrunners of the episodes whose data I collected.\n",
    "SophiaMyles is the protagonist of \"The Girl in the fireplace\"(DW 2x04).\n",
    "User Emily_Rosina is not a member of the cast/crew or but is an influencer as a journalist of the DW Magazine and organizer of the project."
   ]
  },
  {
   "cell_type": "code",
   "execution_count": 30,
   "metadata": {},
   "outputs": [],
   "source": [
    "espansivi_id = [(k,v) for k,v in dict(Gmentions_all.out_degree(weight='weight')).items()\\\n",
    "                if v>=np.percentile(out_degree,99.9)]"
   ]
  },
  {
   "cell_type": "code",
   "execution_count": 31,
   "metadata": {},
   "outputs": [],
   "source": [
    "espansivi_username = [(twitter_api.users.show(user_id=k)['screen_name'],v) for (k,v) in espansivi_id]"
   ]
  },
  {
   "cell_type": "code",
   "execution_count": 32,
   "metadata": {},
   "outputs": [
    {
     "data": {
      "text/html": [
       "<div>\n",
       "<style scoped>\n",
       "    .dataframe tbody tr th:only-of-type {\n",
       "        vertical-align: middle;\n",
       "    }\n",
       "\n",
       "    .dataframe tbody tr th {\n",
       "        vertical-align: top;\n",
       "    }\n",
       "\n",
       "    .dataframe thead th {\n",
       "        text-align: right;\n",
       "    }\n",
       "</style>\n",
       "<table border=\"1\" class=\"dataframe\">\n",
       "  <thead>\n",
       "    <tr style=\"text-align: right;\">\n",
       "      <th></th>\n",
       "      <th>out_degree</th>\n",
       "    </tr>\n",
       "    <tr>\n",
       "      <th>user</th>\n",
       "      <th></th>\n",
       "    </tr>\n",
       "  </thead>\n",
       "  <tbody>\n",
       "    <tr>\n",
       "      <th>BlogtorWho</th>\n",
       "      <td>861</td>\n",
       "    </tr>\n",
       "    <tr>\n",
       "      <th>DrWho247</th>\n",
       "      <td>646</td>\n",
       "    </tr>\n",
       "    <tr>\n",
       "      <th>DoctorWhoPN</th>\n",
       "      <td>538</td>\n",
       "    </tr>\n",
       "    <tr>\n",
       "      <th>TomFrosttt</th>\n",
       "      <td>405</td>\n",
       "    </tr>\n",
       "    <tr>\n",
       "      <th>AH96DWfan</th>\n",
       "      <td>398</td>\n",
       "    </tr>\n",
       "    <tr>\n",
       "      <th>Wishing4aTARDIS</th>\n",
       "      <td>393</td>\n",
       "    </tr>\n",
       "  </tbody>\n",
       "</table>\n",
       "</div>"
      ],
      "text/plain": [
       "                 out_degree\n",
       "user                       \n",
       "BlogtorWho              861\n",
       "DrWho247                646\n",
       "DoctorWhoPN             538\n",
       "TomFrosttt              405\n",
       "AH96DWfan               398\n",
       "Wishing4aTARDIS         393"
      ]
     },
     "execution_count": 32,
     "metadata": {},
     "output_type": "execute_result"
    }
   ],
   "source": [
    "espansivi_df = pd.DataFrame(espansivi_username,columns=['user','out_degree'])\n",
    "espansivi_df.set_index('user',inplace=True)\n",
    "espansivi_df.sort_values(by='out_degree',ascending=False)"
   ]
  },
  {
   "cell_type": "markdown",
   "metadata": {},
   "source": [
    "Authority users are monothematic account or fan-made news account. They try to expand as much as possible in the network to get new followers."
   ]
  },
  {
   "cell_type": "code",
   "execution_count": 33,
   "metadata": {},
   "outputs": [
    {
     "name": "stdout",
     "output_type": "stream",
     "text": [
      "pearson(in_deg,out_deg): 0.0918939727001928\n",
      "pearson(in_deg,pagerank): 0.937987313028115\n",
      "pearson(out_deg,pagerank): 0.05345293501648904\n"
     ]
    }
   ],
   "source": [
    "print(\"pearson(in_deg,out_deg): {}\"\\\n",
    "      .format(scipy.stats.pearsonr(list(in_deg_cen.values()),list(out_deg_cen.values()))[0]))\n",
    "print('pearson(in_deg,pagerank): {}'\\\n",
    "      .format(scipy.stats.pearsonr(list(in_deg_cen.values()),list(pr_centrality.values()))[0]))\n",
    "print('pearson(out_deg,pagerank): {}'\\\n",
    "      .format(scipy.stats.pearsonr(list(out_deg_cen.values()),list(pr_centrality.values()))[0]))"
   ]
  },
  {
   "cell_type": "markdown",
   "metadata": {},
   "source": [
    "There is no correlation between in/out degree."
   ]
  },
  {
   "cell_type": "code",
   "execution_count": 34,
   "metadata": {},
   "outputs": [],
   "source": [
    "set_influencer = {username for username,_ in influencers_id}"
   ]
  },
  {
   "cell_type": "code",
   "execution_count": 35,
   "metadata": {},
   "outputs": [],
   "source": [
    "with open('info/analysis_utility.json','r') as rf:\n",
    "    info = json.load(rf)\n",
    "    info['influencers'] = repr(list(set_influencer))\n",
    "    dw_member = eval(info['dw_member'])"
   ]
  },
  {
   "cell_type": "code",
   "execution_count": 36,
   "metadata": {},
   "outputs": [],
   "source": [
    "with open('info/analysis_utility.json','w') as wf:\n",
    "    json.dump(info,wf)"
   ]
  },
  {
   "cell_type": "markdown",
   "metadata": {},
   "source": [
    "### Interactions between cast/crew members"
   ]
  },
  {
   "cell_type": "markdown",
   "metadata": {},
   "source": [
    "We extract the indirect dw_member subnet. I expect dense and high transitivity network."
   ]
  },
  {
   "cell_type": "code",
   "execution_count": 37,
   "metadata": {},
   "outputs": [],
   "source": [
    "dw_member_tuples = [(name,twitter_api.users.show(screen_name=name)['id_str']) for name in dw_member]\n",
    "dw_member_ids = [id_ for x,id_ in dw_member_tuples]"
   ]
  },
  {
   "cell_type": "code",
   "execution_count": 38,
   "metadata": {},
   "outputs": [],
   "source": [
    "Gcast = Gmentions_all.to_undirected().subgraph(dw_member_ids)\n",
    "Gcast_mod = Gcast.copy()\n",
    "for node in dw_member_tuples:\n",
    "    Gcast_mod.add_node(node[1],username=node[0])\n",
    "Gcast_mod.remove_edges_from(nx.selfloop_edges(Gcast_mod))"
   ]
  },
  {
   "cell_type": "code",
   "execution_count": 39,
   "metadata": {},
   "outputs": [],
   "source": [
    "labels = nx.get_node_attributes(Gcast_mod, 'username') "
   ]
  },
  {
   "cell_type": "code",
   "execution_count": 40,
   "metadata": {},
   "outputs": [
    {
     "name": "stderr",
     "output_type": "stream",
     "text": [
      "/home/manueldileo/anaconda3/lib/python3.7/site-packages/networkx/drawing/layout.py:950: FutureWarning: arrays to stack must be passed as a \"sequence\" type such as list or tuple. Support for non-sequence iterables such as generators is deprecated as of NumPy 1.16 and will raise an error in the future.\n",
      "  pos = np.row_stack((pos[x] for x in node_list))\n"
     ]
    },
    {
     "data": {
      "image/png": "[encoded data removed]",
      "text/plain": [
       "<Figure size 1080x1080 with 1 Axes>"
      ]
     },
     "metadata": {},
     "output_type": "display_data"
    }
   ],
   "source": [
    "plt.figure(figsize=(15,15))\n",
    "nx.draw_networkx(Gcast_mod,\\\n",
    "                 pos=nx.drawing.layout.planar_layout(Gcast_mod),\\\n",
    "                 labels=labels,node_size=500,font_size=10,font_color='black',node_color='pink',edge_color='grey')"
   ]
  },
  {
   "cell_type": "code",
   "execution_count": 41,
   "metadata": {},
   "outputs": [
    {
     "name": "stdout",
     "output_type": "stream",
     "text": [
      "Transitivity: 0.8181818181818182\n"
     ]
    }
   ],
   "source": [
    "print('Transitivity: {}'.format(nx.transitivity(Gcast_mod)))"
   ]
  },
  {
   "cell_type": "code",
   "execution_count": 42,
   "metadata": {},
   "outputs": [
    {
     "name": "stdout",
     "output_type": "stream",
     "text": [
      "Density: 0.21818181818181817\n"
     ]
    }
   ],
   "source": [
    "print('Density: {}'.format(nx.density(Gcast_mod)))"
   ]
  },
  {
   "cell_type": "code",
   "execution_count": 43,
   "metadata": {},
   "outputs": [
    {
     "name": "stdout",
     "output_type": "stream",
     "text": [
      "Transitivity cc ['ingridoliver100', 'BarnabyEdwards', 'mrpeterharness', 'BriggsNicholas', 'ShearmanRobert']: 0.6\n",
      "Density cc ['ingridoliver100', 'BarnabyEdwards', 'mrpeterharness', 'BriggsNicholas', 'ShearmanRobert']: 0.6\n",
      "\n",
      "Transitivity cc ['russelldavies63', 'SophiaMyles', 'StevenWMoffat', 'drmuig']: 1.0\n",
      "Density cc ['russelldavies63', 'SophiaMyles', 'StevenWMoffat', 'drmuig']: 1.0\n",
      "\n"
     ]
    }
   ],
   "source": [
    "ccs = sorted(nx.connected_components(Gcast_mod), key=len, reverse=True)\n",
    "for i,cc in enumerate(ccs[:2]):\n",
    "    G0 = Gcast_mod.subgraph(cc)\n",
    "    print(\"Transitivity cc {}: {}\".format([u for u in nx.get_node_attributes(G0,'username').values()],\\\n",
    "                                          nx.transitivity(G0)))\n",
    "    print('Density cc {}: {}'.format([u for u in nx.get_node_attributes(G0,'username').values()],\\\n",
    "                                          nx.density(G0)))\n",
    "    print()"
   ]
  },
  {
   "cell_type": "markdown",
   "metadata": {},
   "source": [
    "### Which users attended all the events?"
   ]
  },
  {
   "cell_type": "markdown",
   "metadata": {},
   "source": [
    "Let's create a new attribute 'event'. Users who have 'event' equals to [1,1,1,1] belong to core set. "
   ]
  },
  {
   "cell_type": "code",
   "execution_count": 44,
   "metadata": {},
   "outputs": [],
   "source": [
    "df1x06 = pd.read_csv('dataset/dalek.csv')\n",
    "df1x06['event'] = [[1,0,0,0] for i in range(0,len(df1x06))]"
   ]
  },
  {
   "cell_type": "code",
   "execution_count": 45,
   "metadata": {},
   "outputs": [],
   "source": [
    "df2x04 = pd.read_csv('dataset/girl_in_the_fireplace.csv')\n",
    "df2x04['event'] = [[0,1,0,0] for i in range(0,len(df2x04))]"
   ]
  },
  {
   "cell_type": "code",
   "execution_count": 46,
   "metadata": {},
   "outputs": [],
   "source": [
    "df9x07 = pd.read_csv('dataset/zygon.csv')\n",
    "df9x07['event'] = [[0,0,1,0] for i in range(0,len(df9x07))]"
   ]
  },
  {
   "cell_type": "code",
   "execution_count": 47,
   "metadata": {},
   "outputs": [],
   "source": [
    "df8x04 = pd.read_csv('dataset/listen.csv')\n",
    "df8x04['event'] = [[0,0,0,1] for i in range(0,len(df8x04))]"
   ]
  },
  {
   "cell_type": "code",
   "execution_count": 48,
   "metadata": {},
   "outputs": [],
   "source": [
    "df_all_event = df1x06.append(df2x04).append(df9x07).append(df8x04)"
   ]
  },
  {
   "cell_type": "code",
   "execution_count": 49,
   "metadata": {},
   "outputs": [],
   "source": [
    "def aux_merge_event(x,num_event):\n",
    "    sub_list = []\n",
    "    for i in range(0,len(x),num_event):\n",
    "        sub_list.append(x[i:i+num_event])\n",
    "        \n",
    "    res = []\n",
    "    start = 0\n",
    "    if sub_list[0][0] == 0:\n",
    "        start+=1\n",
    "        res.append(0)\n",
    "        for j in range(1,len(sub_list[0])):\n",
    "            if sub_list[0][j] == 1: break\n",
    "            start+=1\n",
    "            res.append(0)\n",
    "            \n",
    "    for i in range(0,len(sub_list)):\n",
    "        e = sub_list[i][i+start]\n",
    "        if e==0: \n",
    "            res.append(0)\n",
    "            for j in range((i+start+1),len(sub_list[i])):\n",
    "                start+=1\n",
    "                if sub_list[i][j] == 1: break\n",
    "                res.append(0)\n",
    "        res.append(1)\n",
    "    for i in range(num_event-len(res)):\n",
    "        res.append(0)\n",
    "    return res"
   ]
  },
  {
   "cell_type": "code",
   "execution_count": 50,
   "metadata": {},
   "outputs": [
    {
     "data": {
      "text/html": [
       "<div>\n",
       "<style scoped>\n",
       "    .dataframe tbody tr th:only-of-type {\n",
       "        vertical-align: middle;\n",
       "    }\n",
       "\n",
       "    .dataframe tbody tr th {\n",
       "        vertical-align: top;\n",
       "    }\n",
       "\n",
       "    .dataframe thead th {\n",
       "        text-align: right;\n",
       "    }\n",
       "</style>\n",
       "<table border=\"1\" class=\"dataframe\">\n",
       "  <thead>\n",
       "    <tr style=\"text-align: right;\">\n",
       "      <th></th>\n",
       "      <th>source</th>\n",
       "      <th>target</th>\n",
       "      <th>weight</th>\n",
       "      <th>event</th>\n",
       "    </tr>\n",
       "  </thead>\n",
       "  <tbody>\n",
       "    <tr>\n",
       "      <th>0</th>\n",
       "      <td>1000814363954040832</td>\n",
       "      <td>112125663</td>\n",
       "      <td>1</td>\n",
       "      <td>[1, 0, 0, 0]</td>\n",
       "    </tr>\n",
       "    <tr>\n",
       "      <th>1</th>\n",
       "      <td>1001093201330163713</td>\n",
       "      <td>1228363893564694528</td>\n",
       "      <td>1</td>\n",
       "      <td>[1, 0, 0, 0]</td>\n",
       "    </tr>\n",
       "    <tr>\n",
       "      <th>2</th>\n",
       "      <td>1001093201330163713</td>\n",
       "      <td>290179649</td>\n",
       "      <td>4</td>\n",
       "      <td>[1, 0, 0, 0]</td>\n",
       "    </tr>\n",
       "    <tr>\n",
       "      <th>3</th>\n",
       "      <td>1001093201330163713</td>\n",
       "      <td>291185646</td>\n",
       "      <td>5</td>\n",
       "      <td>[1, 1, 1, 0]</td>\n",
       "    </tr>\n",
       "    <tr>\n",
       "      <th>4</th>\n",
       "      <td>1001631647400374272</td>\n",
       "      <td>1114612239565303808</td>\n",
       "      <td>1</td>\n",
       "      <td>[1, 0, 0, 0]</td>\n",
       "    </tr>\n",
       "    <tr>\n",
       "      <th>...</th>\n",
       "      <td>...</td>\n",
       "      <td>...</td>\n",
       "      <td>...</td>\n",
       "      <td>...</td>\n",
       "    </tr>\n",
       "    <tr>\n",
       "      <th>3872</th>\n",
       "      <td>998285023567544321</td>\n",
       "      <td>74835605</td>\n",
       "      <td>1</td>\n",
       "      <td>[0, 0, 0, 1]</td>\n",
       "    </tr>\n",
       "    <tr>\n",
       "      <th>3873</th>\n",
       "      <td>998584475574505473</td>\n",
       "      <td>1241307294148825093</td>\n",
       "      <td>1</td>\n",
       "      <td>[0, 0, 0, 1]</td>\n",
       "    </tr>\n",
       "    <tr>\n",
       "      <th>3874</th>\n",
       "      <td>999033265</td>\n",
       "      <td>1241307294148825093</td>\n",
       "      <td>1</td>\n",
       "      <td>[0, 0, 0, 1]</td>\n",
       "    </tr>\n",
       "    <tr>\n",
       "      <th>3876</th>\n",
       "      <td>999880371205357573</td>\n",
       "      <td>19812115</td>\n",
       "      <td>1</td>\n",
       "      <td>[0, 0, 0, 1]</td>\n",
       "    </tr>\n",
       "    <tr>\n",
       "      <th>3877</th>\n",
       "      <td>999880371205357573</td>\n",
       "      <td>237670274</td>\n",
       "      <td>1</td>\n",
       "      <td>[0, 0, 0, 1]</td>\n",
       "    </tr>\n",
       "  </tbody>\n",
       "</table>\n",
       "<p>16581 rows × 4 columns</p>\n",
       "</div>"
      ],
      "text/plain": [
       "                   source               target  weight         event\n",
       "0     1000814363954040832            112125663       1  [1, 0, 0, 0]\n",
       "1     1001093201330163713  1228363893564694528       1  [1, 0, 0, 0]\n",
       "2     1001093201330163713            290179649       4  [1, 0, 0, 0]\n",
       "3     1001093201330163713            291185646       5  [1, 1, 1, 0]\n",
       "4     1001631647400374272  1114612239565303808       1  [1, 0, 0, 0]\n",
       "...                   ...                  ...     ...           ...\n",
       "3872   998285023567544321             74835605       1  [0, 0, 0, 1]\n",
       "3873   998584475574505473  1241307294148825093       1  [0, 0, 0, 1]\n",
       "3874            999033265  1241307294148825093       1  [0, 0, 0, 1]\n",
       "3876   999880371205357573             19812115       1  [0, 0, 0, 1]\n",
       "3877   999880371205357573            237670274       1  [0, 0, 0, 1]\n",
       "\n",
       "[16581 rows x 4 columns]"
      ]
     },
     "execution_count": 50,
     "metadata": {},
     "output_type": "execute_result"
    }
   ],
   "source": [
    "df_all_event['event'] = df_all_event.groupby(['source','target'])['event'].transform('sum')\\\n",
    "                        .transform(lambda x: aux_merge_event(x,4))\n",
    "df_all_event['weight'] = df_all_event.groupby(['source','target'])['weight'].transform('sum')\n",
    "df_all_event.drop_duplicates(subset=['source', 'target'],inplace=True)\n",
    "df_all_event"
   ]
  },
  {
   "cell_type": "code",
   "execution_count": 51,
   "metadata": {},
   "outputs": [],
   "source": [
    "G_events = nx.Graph()\n",
    "for _,item in df_all_event.iterrows():\n",
    "    \n",
    "    source = str(item['source'])\n",
    "    target = str(item['target'])\n",
    "    weight = item['weight']\n",
    "    event = item['event']\n",
    "    \n",
    "    old_source = True\n",
    "    old_target = True\n",
    "    \n",
    "    if source not in G_events.nodes: \n",
    "        old_source=False\n",
    "        G_events.add_node(source,event=event)\n",
    "        \n",
    "    if target not in G_events.nodes: \n",
    "        old_target=False\n",
    "        G_events.add_node(target,event=event)\n",
    "   \n",
    "    G_events.add_edge(source,target,weight=weight)\n",
    "    \n",
    "    events = nx.get_node_attributes(G_events,'event')\n",
    "    if old_source:\n",
    "        new_list = list(np.array(events[source])+np.array(event))\n",
    "        new_event = list(map(lambda x: 1 if x>0 else 0,new_list))\n",
    "        G_events.add_node(source,event=new_event)\n",
    "    if old_target:\n",
    "        new_list = list(np.array(events[target])+np.array(event))\n",
    "        new_event = list(map(lambda x: 1 if x>0 else 0,new_list))\n",
    "        G_events.add_node(target,event=new_event)\n",
    "G_events.remove_edges_from(nx.selfloop_edges(G_events))"
   ]
  },
  {
   "cell_type": "code",
   "execution_count": 52,
   "metadata": {},
   "outputs": [],
   "source": [
    "def is_source(uid):\n",
    "    source1x06 = list(map(lambda x: str(x),df1x06['source'].values))\n",
    "    source2x04 = list(map(lambda x: str(x),df2x04['source'].values))\n",
    "    source9x07 = list(map(lambda x: str(x),df9x07['source'].values))\n",
    "    source8x04 = list(map(lambda x: str(x),df8x04['source'].values))\n",
    "    \n",
    "    return uid in source1x06 and uid in source2x04 and uid in source9x07 and uid in source8x04"
   ]
  },
  {
   "cell_type": "code",
   "execution_count": 53,
   "metadata": {},
   "outputs": [],
   "source": [
    "core = [uid for uid,e in nx.get_node_attributes(G_events,'event').items()\\\n",
    "        if e == [1,1,1,1] and is_source(uid)]"
   ]
  },
  {
   "cell_type": "code",
   "execution_count": 54,
   "metadata": {},
   "outputs": [
    {
     "data": {
      "text/plain": [
       "161"
      ]
     },
     "execution_count": 54,
     "metadata": {},
     "output_type": "execute_result"
    }
   ],
   "source": [
    "len(core)"
   ]
  },
  {
   "cell_type": "code",
   "execution_count": 55,
   "metadata": {},
   "outputs": [],
   "source": [
    "core_username = [twitter_api.users.show(user_id=core_item)['screen_name'] for core_item in core]"
   ]
  },
  {
   "cell_type": "code",
   "execution_count": 56,
   "metadata": {},
   "outputs": [
    {
     "data": {
      "text/plain": [
       "set()"
      ]
     },
     "execution_count": 56,
     "metadata": {},
     "output_type": "execute_result"
    }
   ],
   "source": [
    "set(core_username).intersection(dw_member)"
   ]
  },
  {
   "cell_type": "code",
   "execution_count": 57,
   "metadata": {},
   "outputs": [
    {
     "data": {
      "text/plain": [
       "{'Emily_Rosina'}"
      ]
     },
     "execution_count": 57,
     "metadata": {},
     "output_type": "execute_result"
    }
   ],
   "source": [
    "set(core_username).intersection(set(influencers_table.index))"
   ]
  },
  {
   "cell_type": "code",
   "execution_count": 58,
   "metadata": {},
   "outputs": [
    {
     "data": {
      "text/plain": [
       "{'AH96DWfan', 'BlogtorWho', 'DoctorWhoPN', 'DrWho247', 'Wishing4aTARDIS'}"
      ]
     },
     "execution_count": 58,
     "metadata": {},
     "output_type": "execute_result"
    }
   ],
   "source": [
    "set(core_username).intersection(set([x for x,_ in espansivi_username]))"
   ]
  },
  {
   "cell_type": "markdown",
   "metadata": {},
   "source": [
    "## Community Detection"
   ]
  },
  {
   "cell_type": "code",
   "execution_count": 59,
   "metadata": {},
   "outputs": [],
   "source": [
    "from sklearn.metrics import normalized_mutual_info_score as nmi\n",
    "import community\n",
    "from community import community_louvain\n",
    "from collections import Counter"
   ]
  },
  {
   "cell_type": "code",
   "execution_count": 60,
   "metadata": {},
   "outputs": [],
   "source": [
    "def create_graph(dataset):\n",
    "    G = nx.Graph()\n",
    "    for _,edge in dataset.iterrows():\n",
    "        source = str(edge['source'])\n",
    "        target = str(edge['target'])\n",
    "        G.add_node(source)\n",
    "        G.add_node(target)\n",
    "        G.add_edge(source,target,weight=edge['weight'])\n",
    "    G.remove_edges_from(nx.selfloop_edges(G))\n",
    "    return G"
   ]
  },
  {
   "cell_type": "code",
   "execution_count": 61,
   "metadata": {},
   "outputs": [],
   "source": [
    "def extract_partition_core(partition,core):\n",
    "    partition_core = dict()\n",
    "    for k,v in partition.items():\n",
    "        if k in core: partition_core[k] = v\n",
    "    return partition_core"
   ]
  },
  {
   "cell_type": "code",
   "execution_count": 62,
   "metadata": {},
   "outputs": [],
   "source": [
    "def partition_sets(partition):\n",
    "    sets = []\n",
    "    for i in list(set(partition.values())):\n",
    "        pset = set()\n",
    "        for k,v in partition.items():\n",
    "            if v == i: pset |= {k}\n",
    "        sets.append(pset)\n",
    "    return sets"
   ]
  },
  {
   "cell_type": "code",
   "execution_count": 63,
   "metadata": {},
   "outputs": [
    {
     "name": "stdout",
     "output_type": "stream",
     "text": [
      "Dendrogram level 0:\n",
      "NMI 0, 1: 0.33554932167153134\n",
      "NMI 1, 2: 0.35807000480201917\n",
      "NMI 2, 3: 0.26974548611963456\n",
      "\n",
      "Dendrogram level 1:\n",
      "NMI 0, 1: 0.1594867152834958\n",
      "NMI 1, 2: 0.1963121205176736\n",
      "NMI 2, 3: 0.1048310551227035\n",
      "\n",
      "Dendrogram level 2:\n",
      "NMI 0, 1: 0.12662687671667475\n",
      "NMI 1, 2: 0.14737914044855627\n",
      "NMI 2, 3: 0.08317073244162178\n",
      "\n",
      "Label propagation:\n",
      "NMI 0, 1: 0.0\n",
      "NMI 1, 2: 0.0\n",
      "NMI 2, 3: 0.40049625382001935\n"
     ]
    }
   ],
   "source": [
    "#DENDROGRAM\n",
    "partitions_core_levels = [[] for l in range(3)]\n",
    "for ep in [df1x06,df2x04,df8x04,df9x07]:\n",
    "    Gep = create_graph(ep)\n",
    "    dendrogram = community.generate_dendrogram(Gep,weight='weight')\n",
    "    for level in range(len(dendrogram)):\n",
    "        partition_ep = community.partition_at_level(dendrogram,level)\n",
    "        partition_core = extract_partition_core(partition_ep,core)\n",
    "        partitions_core_levels[level].append(partition_core)\n",
    "\n",
    "for level,partitions_core in enumerate(partitions_core_levels):\n",
    "    print('Dendrogram level {}:'.format(level))\n",
    "    for i in range(len(partitions_core)-1):\n",
    "        values_i = list(partitions_core[i].values())\n",
    "        values_is = list(partitions_core[i+1].values())\n",
    "        print(\"NMI {}, {}: {}\".format(i,i+1,\\\n",
    "                nmi(values_i,values_is)))\n",
    "    print()\n",
    "    \n",
    "#LABEL PROPAGATION\n",
    "partitions_label_propagation = []\n",
    "for ep in [df1x06,df2x04,df8x04,df9x07]:\n",
    "    Gep = create_graph(ep)\n",
    "    partition_ep = dict()\n",
    "    communities = list(nx.community.label_propagation_communities(Gep))\n",
    "    for i,v in enumerate(communities):\n",
    "        for e in v:\n",
    "            partition_ep[e] = i\n",
    "    partition_core = extract_partition_core(partition_ep,core)\n",
    "    partitions_label_propagation.append(partition_core)\n",
    "print('Label propagation:')   \n",
    "for i in range(len(partitions_label_propagation)-1):\n",
    "    values_i = list(partitions_label_propagation[i].values())\n",
    "    values_is = list(partitions_label_propagation[i+1].values())\n",
    "    print(\"NMI {}, {}: {}\".format(i,i+1,nmi(values_i,values_is)))"
   ]
  },
  {
   "cell_type": "markdown",
   "metadata": {},
   "source": [
    "There is no similarity between partitions"
   ]
  }
 ],
 "metadata": {
  "kernelspec": {
   "display_name": "Python 3",
   "language": "python",
   "name": "python3"
  },
  "language_info": {
   "codemirror_mode": {
    "name": "ipython",
    "version": 3
   },
   "file_extension": ".py",
   "mimetype": "text/x-python",
   "name": "python",
   "nbconvert_exporter": "python",
   "pygments_lexer": "ipython3",
   "version": "3.7.3"
  }
 },
 "nbformat": 4,
 "nbformat_minor": 4
}
